{
 "cells": [
  {
   "cell_type": "code",
   "execution_count": 1,
   "id": "44ecf141",
   "metadata": {},
   "outputs": [],
   "source": [
    "import os"
   ]
  },
  {
   "cell_type": "code",
   "execution_count": 2,
   "id": "7c9e94e9",
   "metadata": {},
   "outputs": [
    {
     "data": {
      "text/plain": [
       "'C:\\\\Users\\\\HTCM\\\\Jupyter'"
      ]
     },
     "execution_count": 2,
     "metadata": {},
     "output_type": "execute_result"
    }
   ],
   "source": [
    "os.getcwd()"
   ]
  },
  {
   "cell_type": "code",
   "execution_count": 3,
   "id": "1a23a3df",
   "metadata": {},
   "outputs": [],
   "source": [
    "os.chdir('E:\\\\Machine_Learning\\\\Class_4')"
   ]
  },
  {
   "cell_type": "code",
   "execution_count": 4,
   "id": "307e7edb",
   "metadata": {},
   "outputs": [],
   "source": [
    "import pandas as pd"
   ]
  },
  {
   "cell_type": "code",
   "execution_count": 5,
   "id": "e5658f87",
   "metadata": {},
   "outputs": [],
   "source": [
    "df=pd.read_csv('Height-Weight Data.csv')"
   ]
  },
  {
   "cell_type": "code",
   "execution_count": 6,
   "id": "c1504967",
   "metadata": {},
   "outputs": [
    {
     "data": {
      "text/html": [
       "<div>\n",
       "<style scoped>\n",
       "    .dataframe tbody tr th:only-of-type {\n",
       "        vertical-align: middle;\n",
       "    }\n",
       "\n",
       "    .dataframe tbody tr th {\n",
       "        vertical-align: top;\n",
       "    }\n",
       "\n",
       "    .dataframe thead th {\n",
       "        text-align: right;\n",
       "    }\n",
       "</style>\n",
       "<table border=\"1\" class=\"dataframe\">\n",
       "  <thead>\n",
       "    <tr style=\"text-align: right;\">\n",
       "      <th></th>\n",
       "      <th>Height</th>\n",
       "      <th>Weight</th>\n",
       "    </tr>\n",
       "  </thead>\n",
       "  <tbody>\n",
       "    <tr>\n",
       "      <th>3496</th>\n",
       "      <td>69.296830</td>\n",
       "      <td>185.649086</td>\n",
       "    </tr>\n",
       "    <tr>\n",
       "      <th>3497</th>\n",
       "      <td>70.542201</td>\n",
       "      <td>210.198845</td>\n",
       "    </tr>\n",
       "    <tr>\n",
       "      <th>3498</th>\n",
       "      <td>73.912549</td>\n",
       "      <td>202.429960</td>\n",
       "    </tr>\n",
       "    <tr>\n",
       "      <th>3499</th>\n",
       "      <td>67.396021</td>\n",
       "      <td>144.277671</td>\n",
       "    </tr>\n",
       "    <tr>\n",
       "      <th>3500</th>\n",
       "      <td>72.738970</td>\n",
       "      <td>187.222909</td>\n",
       "    </tr>\n",
       "  </tbody>\n",
       "</table>\n",
       "</div>"
      ],
      "text/plain": [
       "         Height      Weight\n",
       "3496  69.296830  185.649086\n",
       "3497  70.542201  210.198845\n",
       "3498  73.912549  202.429960\n",
       "3499  67.396021  144.277671\n",
       "3500  72.738970  187.222909"
      ]
     },
     "execution_count": 6,
     "metadata": {},
     "output_type": "execute_result"
    }
   ],
   "source": [
    "df.tail()"
   ]
  },
  {
   "cell_type": "code",
   "execution_count": 7,
   "id": "e81f9ef6",
   "metadata": {},
   "outputs": [
    {
     "data": {
      "text/plain": [
       "Height    0\n",
       "Weight    0\n",
       "dtype: int64"
      ]
     },
     "execution_count": 7,
     "metadata": {},
     "output_type": "execute_result"
    }
   ],
   "source": [
    "df.isnull().sum()"
   ]
  },
  {
   "cell_type": "code",
   "execution_count": 8,
   "id": "af12cf51",
   "metadata": {},
   "outputs": [],
   "source": [
    "import matplotlib.pyplot as plt"
   ]
  },
  {
   "cell_type": "code",
   "execution_count": 9,
   "id": "ca31001e",
   "metadata": {},
   "outputs": [],
   "source": [
    "import numpy as np"
   ]
  },
  {
   "cell_type": "code",
   "execution_count": 10,
   "id": "6d3dd1ae",
   "metadata": {},
   "outputs": [
    {
     "data": {
      "text/plain": [
       "Text(0, 0.5, 'Weight')"
      ]
     },
     "execution_count": 10,
     "metadata": {},
     "output_type": "execute_result"
    },
    {
     "data": {
      "image/png": "[encoded data removed]",
      "text/plain": [
       "<Figure size 432x288 with 1 Axes>"
      ]
     },
     "metadata": {
      "needs_background": "light"
     },
     "output_type": "display_data"
    }
   ],
   "source": [
    "plt.scatter(df.Height,df.Weight,color=\"red\",marker=',')\n",
    "plt.title('Height-Weight Prediction',color='green',fontsize=13)\n",
    "plt.xlabel('Height',color='green',fontsize=12)\n",
    "plt.ylabel('Weight',color='green',fontsize=12)"
   ]
  },
  {
   "cell_type": "code",
   "execution_count": 11,
   "id": "8279b2cb",
   "metadata": {},
   "outputs": [],
   "source": [
    "from sklearn.model_selection import train_test_split"
   ]
  },
  {
   "cell_type": "code",
   "execution_count": 12,
   "id": "29ee2506",
   "metadata": {},
   "outputs": [],
   "source": [
    "x=df[['Height']]\n",
    "y=df['Weight']"
   ]
  },
  {
   "cell_type": "code",
   "execution_count": 13,
   "id": "ef4ca92c",
   "metadata": {},
   "outputs": [],
   "source": [
    "xtrain,xtest,ytrain,ytest = train_test_split(x,y,train_size=.8)"
   ]
  },
  {
   "cell_type": "code",
   "execution_count": 14,
   "id": "a2a671bf",
   "metadata": {},
   "outputs": [
    {
     "data": {
      "text/plain": [
       "(2800, 1)"
      ]
     },
     "execution_count": 14,
     "metadata": {},
     "output_type": "execute_result"
    }
   ],
   "source": [
    "xtrain.shape"
   ]
  },
  {
   "cell_type": "code",
   "execution_count": 15,
   "id": "ef4edfae",
   "metadata": {},
   "outputs": [
    {
     "data": {
      "text/plain": [
       "(2800,)"
      ]
     },
     "execution_count": 15,
     "metadata": {},
     "output_type": "execute_result"
    }
   ],
   "source": [
    "ytrain.shape"
   ]
  },
  {
   "cell_type": "code",
   "execution_count": 16,
   "id": "ec86da54",
   "metadata": {},
   "outputs": [],
   "source": [
    "from sklearn.linear_model import LinearRegression"
   ]
  },
  {
   "cell_type": "code",
   "execution_count": 17,
   "id": "266b0855",
   "metadata": {},
   "outputs": [],
   "source": [
    "reg= LinearRegression()"
   ]
  },
  {
   "cell_type": "code",
   "execution_count": 18,
   "id": "8170f58a",
   "metadata": {},
   "outputs": [
    {
     "data": {
      "text/plain": [
       "LinearRegression()"
      ]
     },
     "execution_count": 18,
     "metadata": {},
     "output_type": "execute_result"
    }
   ],
   "source": [
    "reg.fit(xtrain,ytrain)"
   ]
  },
  {
   "cell_type": "code",
   "execution_count": 19,
   "id": "a634cfd7",
   "metadata": {},
   "outputs": [],
   "source": [
    "df['output']=reg.predict(x)"
   ]
  },
  {
   "cell_type": "code",
   "execution_count": 20,
   "id": "08517f41",
   "metadata": {},
   "outputs": [
    {
     "data": {
      "text/html": [
       "<div>\n",
       "<style scoped>\n",
       "    .dataframe tbody tr th:only-of-type {\n",
       "        vertical-align: middle;\n",
       "    }\n",
       "\n",
       "    .dataframe tbody tr th {\n",
       "        vertical-align: top;\n",
       "    }\n",
       "\n",
       "    .dataframe thead th {\n",
       "        text-align: right;\n",
       "    }\n",
       "</style>\n",
       "<table border=\"1\" class=\"dataframe\">\n",
       "  <thead>\n",
       "    <tr style=\"text-align: right;\">\n",
       "      <th></th>\n",
       "      <th>Height</th>\n",
       "      <th>Weight</th>\n",
       "      <th>output</th>\n",
       "    </tr>\n",
       "  </thead>\n",
       "  <tbody>\n",
       "    <tr>\n",
       "      <th>0</th>\n",
       "      <td>73.847017</td>\n",
       "      <td>241.893563</td>\n",
       "      <td>215.479932</td>\n",
       "    </tr>\n",
       "    <tr>\n",
       "      <th>1</th>\n",
       "      <td>68.781904</td>\n",
       "      <td>162.310473</td>\n",
       "      <td>185.416629</td>\n",
       "    </tr>\n",
       "    <tr>\n",
       "      <th>2</th>\n",
       "      <td>74.110105</td>\n",
       "      <td>212.740856</td>\n",
       "      <td>217.041458</td>\n",
       "    </tr>\n",
       "    <tr>\n",
       "      <th>3</th>\n",
       "      <td>71.730978</td>\n",
       "      <td>220.042470</td>\n",
       "      <td>202.920467</td>\n",
       "    </tr>\n",
       "    <tr>\n",
       "      <th>4</th>\n",
       "      <td>69.881796</td>\n",
       "      <td>206.349801</td>\n",
       "      <td>191.944890</td>\n",
       "    </tr>\n",
       "    <tr>\n",
       "      <th>5</th>\n",
       "      <td>67.253016</td>\n",
       "      <td>152.212156</td>\n",
       "      <td>176.342116</td>\n",
       "    </tr>\n",
       "    <tr>\n",
       "      <th>6</th>\n",
       "      <td>68.785081</td>\n",
       "      <td>183.927889</td>\n",
       "      <td>185.435487</td>\n",
       "    </tr>\n",
       "    <tr>\n",
       "      <th>7</th>\n",
       "      <td>68.348516</td>\n",
       "      <td>167.971111</td>\n",
       "      <td>182.844309</td>\n",
       "    </tr>\n",
       "    <tr>\n",
       "      <th>8</th>\n",
       "      <td>67.018950</td>\n",
       "      <td>175.929440</td>\n",
       "      <td>174.952848</td>\n",
       "    </tr>\n",
       "    <tr>\n",
       "      <th>9</th>\n",
       "      <td>63.456494</td>\n",
       "      <td>156.399676</td>\n",
       "      <td>153.808367</td>\n",
       "    </tr>\n",
       "    <tr>\n",
       "      <th>10</th>\n",
       "      <td>71.195382</td>\n",
       "      <td>186.604926</td>\n",
       "      <td>199.741507</td>\n",
       "    </tr>\n",
       "    <tr>\n",
       "      <th>11</th>\n",
       "      <td>71.640805</td>\n",
       "      <td>213.741170</td>\n",
       "      <td>202.385255</td>\n",
       "    </tr>\n",
       "    <tr>\n",
       "      <th>12</th>\n",
       "      <td>64.766329</td>\n",
       "      <td>167.127461</td>\n",
       "      <td>161.582719</td>\n",
       "    </tr>\n",
       "    <tr>\n",
       "      <th>13</th>\n",
       "      <td>69.283070</td>\n",
       "      <td>189.446181</td>\n",
       "      <td>188.391233</td>\n",
       "    </tr>\n",
       "    <tr>\n",
       "      <th>14</th>\n",
       "      <td>69.243732</td>\n",
       "      <td>186.434168</td>\n",
       "      <td>188.157748</td>\n",
       "    </tr>\n",
       "    <tr>\n",
       "      <th>15</th>\n",
       "      <td>67.645620</td>\n",
       "      <td>172.186930</td>\n",
       "      <td>178.672364</td>\n",
       "    </tr>\n",
       "    <tr>\n",
       "      <th>16</th>\n",
       "      <td>72.418317</td>\n",
       "      <td>196.028506</td>\n",
       "      <td>207.000071</td>\n",
       "    </tr>\n",
       "    <tr>\n",
       "      <th>17</th>\n",
       "      <td>63.974326</td>\n",
       "      <td>172.883470</td>\n",
       "      <td>156.881888</td>\n",
       "    </tr>\n",
       "    <tr>\n",
       "      <th>18</th>\n",
       "      <td>69.640060</td>\n",
       "      <td>185.983958</td>\n",
       "      <td>190.510098</td>\n",
       "    </tr>\n",
       "    <tr>\n",
       "      <th>19</th>\n",
       "      <td>67.936005</td>\n",
       "      <td>182.426648</td>\n",
       "      <td>180.395907</td>\n",
       "    </tr>\n",
       "  </tbody>\n",
       "</table>\n",
       "</div>"
      ],
      "text/plain": [
       "       Height      Weight      output\n",
       "0   73.847017  241.893563  215.479932\n",
       "1   68.781904  162.310473  185.416629\n",
       "2   74.110105  212.740856  217.041458\n",
       "3   71.730978  220.042470  202.920467\n",
       "4   69.881796  206.349801  191.944890\n",
       "5   67.253016  152.212156  176.342116\n",
       "6   68.785081  183.927889  185.435487\n",
       "7   68.348516  167.971111  182.844309\n",
       "8   67.018950  175.929440  174.952848\n",
       "9   63.456494  156.399676  153.808367\n",
       "10  71.195382  186.604926  199.741507\n",
       "11  71.640805  213.741170  202.385255\n",
       "12  64.766329  167.127461  161.582719\n",
       "13  69.283070  189.446181  188.391233\n",
       "14  69.243732  186.434168  188.157748\n",
       "15  67.645620  172.186930  178.672364\n",
       "16  72.418317  196.028506  207.000071\n",
       "17  63.974326  172.883470  156.881888\n",
       "18  69.640060  185.983958  190.510098\n",
       "19  67.936005  182.426648  180.395907"
      ]
     },
     "execution_count": 20,
     "metadata": {},
     "output_type": "execute_result"
    }
   ],
   "source": [
    "df.head(20)"
   ]
  },
  {
   "cell_type": "code",
   "execution_count": 21,
   "id": "7fd67ad1",
   "metadata": {},
   "outputs": [
    {
     "data": {
      "text/plain": [
       "array([5.93536674])"
      ]
     },
     "execution_count": 21,
     "metadata": {},
     "output_type": "execute_result"
    }
   ],
   "source": [
    "reg.coef_"
   ]
  },
  {
   "cell_type": "code",
   "execution_count": 22,
   "id": "33eafd94",
   "metadata": {},
   "outputs": [
    {
     "data": {
      "text/plain": [
       "-222.82919672853666"
      ]
     },
     "execution_count": 22,
     "metadata": {},
     "output_type": "execute_result"
    }
   ],
   "source": [
    "reg.intercept_"
   ]
  },
  {
   "cell_type": "code",
   "execution_count": 23,
   "id": "45494b0f",
   "metadata": {},
   "outputs": [
    {
     "data": {
      "text/plain": [
       "array([103.61597388])"
      ]
     },
     "execution_count": 23,
     "metadata": {},
     "output_type": "execute_result"
    }
   ],
   "source": [
    "reg.predict([[55]])"
   ]
  },
  {
   "cell_type": "code",
   "execution_count": 24,
   "id": "d51cb49e",
   "metadata": {},
   "outputs": [
    {
     "data": {
      "text/plain": [
       "Text(0, 0.5, 'Weight')"
      ]
     },
     "execution_count": 24,
     "metadata": {},
     "output_type": "execute_result"
    },
    {
     "data": {
      "image/png": "[encoded data removed]",
      "text/plain": [
       "<Figure size 432x288 with 1 Axes>"
      ]
     },
     "metadata": {
      "needs_background": "light"
     },
     "output_type": "display_data"
    }
   ],
   "source": [
    "plt.plot(df.Height,df.output,color='red')\n",
    "plt.scatter(df.Height,df.Weight,color=\"green\",marker='.')\n",
    "plt.title('Height-Weight Prediction',color='green',fontsize=13)\n",
    "plt.xlabel('Height',color='green',fontsize=12)\n",
    "plt.ylabel('Weight',color='green',fontsize=12)"
   ]
  },
  {
   "cell_type": "code",
   "execution_count": 25,
   "id": "8be431b1",
   "metadata": {},
   "outputs": [
    {
     "data": {
      "text/plain": [
       "0.7350574394754954"
      ]
     },
     "execution_count": 25,
     "metadata": {},
     "output_type": "execute_result"
    }
   ],
   "source": [
    "reg.score(xtest,ytest)"
   ]
  },
  {
   "cell_type": "code",
   "execution_count": 26,
   "id": "762bf66d",
   "metadata": {},
   "outputs": [
    {
     "data": {
      "image/png": "[encoded data removed]",
      "text/plain": [
       "<Figure size 720x504 with 1 Axes>"
      ]
     },
     "metadata": {
      "needs_background": "light"
     },
     "output_type": "display_data"
    }
   ],
   "source": [
    "from mpl_toolkits import mplot3d\n",
    "import numpy as np\n",
    "import matplotlib.pyplot as plt\n",
    "\n",
    "x = df.Height\n",
    "y = df.Weight\n",
    "z =df.output\n",
    "fig = plt.figure(figsize = (10, 7))\n",
    "ax = plt.axes(projection =\"3d\")\n",
    "ax.scatter3D(x, y, z, color = \"green\")\n",
    "plt.title(\"3D scatter plot\")\n",
    "plt.show()"
   ]
  },
  {
   "cell_type": "code",
   "execution_count": 38,
   "id": "ad4137b9",
   "metadata": {},
   "outputs": [],
   "source": [
    "from sklearn.metrics import mean_absolute_error\n",
    "from sklearn.metrics import mean_squared_error\n",
    "pred = reg.predict(xtest) # ytest -> y\n",
    "MAE = mean_absolute_error(ytest,pred)\n",
    "MSE = mean_squared_error(ytest,pred)\n"
   ]
  },
  {
   "cell_type": "code",
   "execution_count": 39,
   "id": "0c2b4a52",
   "metadata": {},
   "outputs": [
    {
     "data": {
      "text/plain": [
       "110.07554258802496"
      ]
     },
     "execution_count": 39,
     "metadata": {},
     "output_type": "execute_result"
    }
   ],
   "source": [
    "MSE\n"
   ]
  },
  {
   "cell_type": "code",
   "execution_count": 40,
   "id": "fa96d010",
   "metadata": {},
   "outputs": [
    {
     "data": {
      "text/plain": [
       "8.079055025490073"
      ]
     },
     "execution_count": 40,
     "metadata": {},
     "output_type": "execute_result"
    }
   ],
   "source": [
    "MAE"
   ]
  },
  {
   "cell_type": "code",
   "execution_count": 42,
   "id": "6ac023a4",
   "metadata": {},
   "outputs": [],
   "source": [
    "import pickle as pk\n",
    "# write file\n",
    "pk.dump(reg,open('MY_LR1','wb')) #wb write binary"
   ]
  },
  {
   "cell_type": "code",
   "execution_count": 43,
   "id": "7b5856f2",
   "metadata": {},
   "outputs": [
    {
     "data": {
      "text/plain": [
       "array([35389.37123367])"
      ]
     },
     "execution_count": 43,
     "metadata": {},
     "output_type": "execute_result"
    }
   ],
   "source": [
    "reg2 = pk.load(open('MY_LR1','rb')) #read binary\n",
    "reg2.predict([[6000]])"
   ]
  },
  {
   "cell_type": "code",
   "execution_count": 45,
   "id": "3aeaac07",
   "metadata": {},
   "outputs": [
    {
     "data": {
      "text/plain": [
       "array([35389.37123367])"
      ]
     },
     "execution_count": 45,
     "metadata": {},
     "output_type": "execute_result"
    }
   ],
   "source": [
    "# Joblib\n",
    "import joblib as jb\n",
    "jb.dump(reg,'ML_Model_2') #WRITE\n",
    "reg3 = jb.load('ML_Model_2') #READ\n",
    "reg3.predict([[6000]])"
   ]
  },
  {
   "cell_type": "code",
   "execution_count": null,
   "id": "86667f15",
   "metadata": {},
   "outputs": [],
   "source": []
  }
 ],
 "metadata": {
  "kernelspec": {
   "display_name": "Python 3",
   "language": "python",
   "name": "python3"
  },
  "language_info": {
   "codemirror_mode": {
    "name": "ipython",
    "version": 3
   },
   "file_extension": ".py",
   "mimetype": "text/x-python",
   "name": "python",
   "nbconvert_exporter": "python",
   "pygments_lexer": "ipython3",
   "version": "3.8.8"
  }
 },
 "nbformat": 4,
 "nbformat_minor": 5
}
